{
  "cells": [
    {
      "cell_type": "markdown",
      "metadata": {
        "id": "whDy7G3jXMyr"
      },
      "source": [
        "# Implement function calling with the Granite-3-8B-Instruct model in Python with WatsonX"
      ]
    },
    {
      "cell_type": "markdown",
      "metadata": {
        "id": "oSLo80w5XMyu"
      },
      "source": [
        "\n",
        "**Authors:** Erika Russi, Anna Gutowska, Jess Bozorg\n",
        "\n",
        "In this tutorial, you will use the IBM® [Granite-3-8B-Instruct model](https://www.ibm.com/granite) now available on watsonx.ai™ to perform custom function calling.  \n",
        "\n",
        "Traditional [large language models (LLMs)](https://www.ibm.com/topics/large-language-models), like the OpenAI GPT-4 (generative pre-trained transformer) model available through ChatGPT, and the IBM Granite™ models that we'll use in this tutorial, are limited in their knowledge and reasoning. They produce their responses based on the data used to train them and are difficult to adapt to personalized user queries. To obtain the missing information, these [generative AI](https://www.ibm.com/topics/generative-ai) models can integrate external tools within the function calling. This method is one way to avoid fine-tuning a foundation model for each specific use-case. The function calling examples in this tutorial will implement external [API](https://www.ibm.com/topics/api) calls.\n",
        "\n",
        "The Granite-3-8B-Instruct model and tokenizer use [natural language processing (NLP)](https://www.ibm.com/topics/natural-language-processing) to parse query syntax. In addition, the models use function descriptions and function parameters to determine the appropriate tool calls. Key information is then extracted from user queries to be passed as function arguments.\n",
        "\n",
        "[![Open YouTube video](https://img.youtube.com/vi/cjCYcTPryw8/0.jpg)](https://www.youtube.com/watch?v=cjCYcTPryw8)\n",
        "\n",
        "This recipe is also available on [IBM.com](https://www.ibm.com/think/tutorials/granite-function-calling).\n"
      ]
    },
    {
      "cell_type": "markdown",
      "metadata": {
        "id": "M5mbiktQXMyv"
      },
      "source": [
        "# Steps"
      ]
    },
    {
      "cell_type": "markdown",
      "metadata": {
        "id": "ue6QSUhXXMyv"
      },
      "source": [
        "## Step 1. Set up your environment\n",
        "\n",
        "While you can choose from several tools, this tutorial is best suited for a Jupyter Notebook. Jupyter Notebooks are widely used within data science to combine code with various data sources such as text, images and data visualizations.\n",
        "\n",
        "You can run this notebook in [Colab](https://colab.research.google.com/), or download it to your system and [run the notebook locally](https://github.com/ibm-granite-community/granite-kitchen/blob/main/recipes/Getting_Started_with_Jupyter_Locally/Getting_Started_with_Jupyter_Locally.md).\n",
        "\n",
        "To avoid Python package dependency conflicts, we recommend setting up a [virtual environment](https://docs.python.org/3/library/venv.html).  \n",
        "\n",
        "Note, this notebook is compatible with Python 3.11.10 and well as Python 3.10.12, the default in Colab at the time of publishing this tutorial. To check your python version, you can run the `!python --version` command in a code cell.\n",
        "\n",
        "## Step 2. Set up a watsonx.ai Runtime instance and API key.\n",
        "\n",
        "1. Create a [watsonx.ai Runtime](https://cloud.ibm.com/catalog/services/watsonxai-runtime) service instance (select your appropriate region and choose the Lite plan, which is a free instance).\n",
        "\n",
        "2. Generate an application programming interface [(API) key](https://dataplatform.cloud.ibm.com/docs/content/wsj/analyze-data/ml-authentication.html).\n",
        "\n",
        "3. Associate the watsonx.ai Runtime service instance to the project that you created in [watsonx.ai](https://dataplatform.cloud.ibm.com/docs/content/wsj/getting-started/assoc-services.html).\n",
        "\n",
        "## Step 3. Install and import relevant libraries and set up your credentials\n",
        "\n",
        "We'll need a few libraries and modules for this tutorial. Make sure to import the following ones; if they're not installed, you can resolve this with a quick pip install."
      ]
    },
    {
      "cell_type": "code",
      "execution_count": null,
      "metadata": {
        "id": "a6nK2DtJXMyw"
      },
      "outputs": [],
      "source": [
        "# installations\n",
        "! pip install -q \"git+https://github.com/ibm-granite-community/utils.git\" \\\n",
        "    langchain-ibm \\\n",
        "    transformers"
      ]
    },
    {
      "cell_type": "code",
      "execution_count": null,
      "metadata": {
        "id": "hR5XC_qMXMyx"
      },
      "outputs": [],
      "source": [
        "#imports\n",
        "import requests\n",
        "import ast\n",
        "import re\n",
        "\n",
        "from transformers import AutoTokenizer"
      ]
    },
    {
      "cell_type": "markdown",
      "metadata": {
        "id": "3tXZnXi7XMyx"
      },
      "source": [
        "Next, we can prepare our environment by setting the model ID for the `granite-3-8b-instruct` model, and the tokenizer for the same Granite model."
      ]
    },
    {
      "cell_type": "code",
      "execution_count": null,
      "metadata": {
        "id": "MFl5CQIhXMyx"
      },
      "outputs": [],
      "source": [
        "MODEL_ID = \"ibm/granite-3-2-8b-instruct\"\n",
        "\n",
        "TOKENIZER = AutoTokenizer.from_pretrained(\"ibm-granite/granite-3.2-8b-instruct\")"
      ]
    },
    {
      "cell_type": "markdown",
      "metadata": {
        "id": "NMFOpKaZXMyy"
      },
      "source": [
        "The `get_stock_price` function in this tutorial requires an `AV_STOCK_API_KEY` key. To generate a free `AV_STOCK_API_KEY`, please visit the [Alpha Vantage website](https://www.alphavantage.co/support/#api-key).\n",
        "\n",
        "Secondly, the `get_current_weather` function requires a `WEATHER_API_KEY`. To generate one, please [create an account](https://home.openweathermap.org/users/sign_up). Upon creating an account, select the \"API Keys\" tab to display your free key.\n",
        "\n",
        "**Store these private keys in a separate `.env` file in the same level of your directory as this notebook.**"
      ]
    },
    {
      "cell_type": "code",
      "execution_count": null,
      "metadata": {
        "id": "EgyNffbGXMyy"
      },
      "outputs": [],
      "source": [
        "from ibm_granite_community.notebook_utils import get_env_var\n",
        "\n",
        "AV_STOCK_API_KEY = get_env_var(\"AV_STOCK_API_KEY\", \"none\")\n",
        "\n",
        "WEATHER_API_KEY = get_env_var(\"WEATHER_API_KEY\", \"none\")"
      ]
    },
    {
      "cell_type": "markdown",
      "metadata": {
        "id": "DwcA0b59XMyy"
      },
      "source": [
        "## Step 4. Define the functions"
      ]
    },
    {
      "cell_type": "markdown",
      "metadata": {
        "id": "8oygnGjPXMyz"
      },
      "source": [
        "We can now define our functions. The function's docstring and type information are important for generating the proper tool information.\n",
        "\n",
        "In this tutorial, the `get_stock_price` function uses the Stock Market Data API available through Alpha Vantage."
      ]
    },
    {
      "cell_type": "code",
      "execution_count": null,
      "metadata": {
        "id": "FYirGw_hXMyz"
      },
      "outputs": [],
      "source": [
        "def get_stock_price(ticker: str, date: str) -> dict:\n",
        "    \"\"\"\n",
        "    Retrieves the lowest and highest stock prices for a given ticker and date.\n",
        "\n",
        "    Args:\n",
        "        ticker: The stock ticker symbol, e.g., \"IBM\".\n",
        "        date: The date in \"YYYY-MM-DD\" format for which you want to get stock prices.\n",
        "\n",
        "    Returns:\n",
        "        A dictionary containing the low and high stock prices on the given date.\n",
        "    \"\"\"\n",
        "    print(f\"Getting stock price for {ticker} on {date}\")\n",
        "    try:\n",
        "        stock_url = f\"https://www.alphavantage.co/query?function=TIME_SERIES_DAILY&symbol={ticker}&apikey={AV_STOCK_API_KEY}\"\n",
        "        stock_data = requests.get(stock_url)\n",
        "        stock_low = stock_data.json()[\"Time Series (Daily)\"][date][\"3. low\"]\n",
        "        stock_high = stock_data.json()[\"Time Series (Daily)\"][date][\"2. high\"]\n",
        "        return {\n",
        "            \"low\": stock_low,\n",
        "            \"high\": stock_high\n",
        "        }\n",
        "    except Exception as e:\n",
        "        print(f\"Error fetching stock data: {e}\")\n",
        "        return {\n",
        "            \"low\": \"none\",\n",
        "            \"high\": \"none\"\n",
        "        }"
      ]
    },
    {
      "cell_type": "markdown",
      "metadata": {
        "id": "-AekM_5yXMyz"
      },
      "source": [
        "The `get_current_weather` function retrieves the real-time weather in a given location using the Current Weather Data API via [OpenWeather](https://openweathermap.org/api)."
      ]
    },
    {
      "cell_type": "code",
      "execution_count": null,
      "metadata": {
        "id": "OF3kpcN5XMyz"
      },
      "outputs": [],
      "source": [
        "def get_current_weather(location: str) -> dict:\n",
        "    \"\"\"\n",
        "    Fetches the current weather for a given location (default: San Francisco).\n",
        "\n",
        "    Args:\n",
        "        location: The name of the city for which to retrieve the weather information.\n",
        "\n",
        "    Returns:\n",
        "        A dictionary containing weather information such as temperature, weather description, and humidity.\n",
        "    \"\"\"\n",
        "    print(f\"Getting current weather for {location}\")\n",
        "\n",
        "    try:\n",
        "        # API request to fetch weather data\n",
        "        weather_url = f\"http://api.openweathermap.org/data/2.5/weather?q={location}&appid={WEATHER_API_KEY}&units=metric\"\n",
        "        weather_data = requests.get(weather_url)\n",
        "        data = weather_data.json()\n",
        "        # Extracting relevant weather details\n",
        "        weather_description = data[\"weather\"][0][\"description\"]\n",
        "        temperature = data[\"main\"][\"temp\"]\n",
        "        humidity = data[\"main\"][\"humidity\"]\n",
        "\n",
        "        # Returning weather details\n",
        "        return {\n",
        "            \"description\": weather_description,\n",
        "            \"temperature\": temperature,\n",
        "            \"humidity\": humidity\n",
        "        }\n",
        "    except Exception as e:\n",
        "        print(f\"Error fetching weather data: {e}\")\n",
        "        return {\n",
        "            \"description\": \"none\",\n",
        "            \"temperature\": \"none\",\n",
        "            \"humidity\": \"none\"\n",
        "        }"
      ]
    },
    {
      "cell_type": "markdown",
      "metadata": {
        "id": "pXhwjpwJXMyz"
      },
      "source": [
        "## Step 5. Set up the API request"
      ]
    },
    {
      "cell_type": "markdown",
      "metadata": {
        "id": "PSLwttAXXMyz"
      },
      "source": [
        "Now that our functions are defined, we can create a function that generates a watsonx API request for the provided instructions the watsonx API endpoint. We will use this function each time we make a request.\n",
        "\n",
        "Please store your `WATSONX_PROJECT_ID` and `WATSONX_APIKEY` in a separate `.env` file in the same level of your directory as this notebook. Your `WATSONX_URL` will be dependent on your region. Reference the [documentation](https://cloud.ibm.com/apidocs/watsonx-ai) to determine the appropriate endpoint for you."
      ]
    },
    {
      "cell_type": "code",
      "execution_count": null,
      "metadata": {
        "id": "ukw2w1V7XMyz"
      },
      "outputs": [],
      "source": [
        "from langchain_ibm import WatsonxLLM\n",
        "\n",
        "def make_api_request(instructions: str) -> str:\n",
        "    model_parameters = {\n",
        "        \"decoding_method\": \"greedy\",\n",
        "        \"max_new_tokens\": 200,\n",
        "        \"repetition_penalty\": 1.05,\n",
        "        \"stop_sequences\": [TOKENIZER.eos_token]\n",
        "    }\n",
        "    model = WatsonxLLM(\n",
        "        model_id=MODEL_ID,\n",
        "        url= get_env_var(\"WATSONX_URL\"),\n",
        "        apikey=get_env_var(\"WATSONX_APIKEY\"),\n",
        "        project_id=get_env_var(\"WATSONX_PROJECT_ID\"),\n",
        "        params=model_parameters\n",
        "    )\n",
        "    response = model.invoke(instructions)\n",
        "    return response\n"
      ]
    },
    {
      "cell_type": "markdown",
      "metadata": {
        "id": "wXQ_E3jbXMy0"
      },
      "source": [
        "Next, we can create a list of available functions. Here, we declare our function definitions that require the function names, descriptions, parameters and required properties."
      ]
    },
    {
      "cell_type": "code",
      "execution_count": null,
      "metadata": {
        "id": "F_y1Fjp3XMy0"
      },
      "outputs": [],
      "source": [
        "from transformers.utils import get_json_schema\n",
        "\n",
        "tools = [get_json_schema(tool)[\"function\"] for tool in (get_stock_price, get_current_weather)]\n",
        "tools"
      ]
    },
    {
      "cell_type": "markdown",
      "metadata": {
        "id": "GkA6MnthXMy0"
      },
      "source": [
        "## Step 6. Perform function calling\n"
      ]
    },
    {
      "cell_type": "markdown",
      "metadata": {
        "id": "EDFme11NXMy0"
      },
      "source": [
        "### Step 6a. Calling the get_stock_price function"
      ]
    },
    {
      "cell_type": "markdown",
      "metadata": {
        "id": "vkvsOJtWXMy0"
      },
      "source": [
        "To prepare for the API requests, we must set our `query` used in the tokenizer chat template."
      ]
    },
    {
      "cell_type": "code",
      "execution_count": null,
      "metadata": {
        "id": "kO95CgJjXMy0"
      },
      "outputs": [],
      "source": [
        "query = \"What were the IBM stock prices on October 7, 2024?\""
      ]
    },
    {
      "cell_type": "markdown",
      "metadata": {
        "id": "dkPl8513XMy0"
      },
      "source": [
        "Applying a chat template is useful for breaking up long strings of texts into one or more messages with corresponding labels. This allows the LLM to process the input in a format that it expects. Because we want our output to be in a string format, we can set the `tokenize` parameter to false. The `add_generation_prompt` can be set to true in order to append the tokens indicating the beginning of an assistant message to the output. This will be useful when generating chat completions with the model."
      ]
    },
    {
      "cell_type": "code",
      "execution_count": null,
      "metadata": {
        "id": "Eye7lp0lXMy0"
      },
      "outputs": [],
      "source": [
        "conversation = [\n",
        "    {\"role\": \"system\",\"content\": \"You are a helpful assistant with access to the following function calls. Your task is to produce a list of function calls necessary to generate response to the user utterance. Use the following function calls as required.\"},\n",
        "    {\"role\": \"user\", \"content\": query },\n",
        "]\n",
        "\n",
        "instruction_1 = TOKENIZER.apply_chat_template(conversation=conversation, tools=tools, tokenize=False, add_generation_prompt=True)\n",
        "instruction_1"
      ]
    },
    {
      "cell_type": "markdown",
      "metadata": {
        "id": "yJmFe3-cXMy0"
      },
      "source": [
        "Now, we can call the `make_api_request` function and pass the instructions we generated."
      ]
    },
    {
      "cell_type": "code",
      "execution_count": null,
      "metadata": {
        "id": "6qxyrLBhXMy0"
      },
      "outputs": [],
      "source": [
        "data_1 = make_api_request(instruction_1)\n",
        "data_1"
      ]
    },
    {
      "cell_type": "markdown",
      "metadata": {
        "id": "W6hV0JoaXMy0"
      },
      "source": [
        "As you can see by the function name in the JSON object produced by the model, the appropriate `get_stock_price` tool use was selected from the set of functions. To run the function, let's extract relevant information from the output. With the function name and arguments extracted, we can call the function. To call the function using its name as a string, we can use the `globals()` function."
      ]
    },
    {
      "cell_type": "code",
      "execution_count": null,
      "metadata": {
        "id": "9BhoqS85XMy1"
      },
      "outputs": [],
      "source": [
        "def tool_call(llm_response: str):\n",
        "    tool_request = ast.literal_eval(re.search(\"({.+})\", llm_response).group(0))\n",
        "    tool_name = tool_request[\"name\"]\n",
        "    tool_arguments = tool_request[\"arguments\"]\n",
        "    tool_response = globals()[tool_name](**tool_arguments)\n",
        "    return tool_response"
      ]
    },
    {
      "cell_type": "markdown",
      "metadata": {
        "id": "qwkTcfJ6XMy1"
      },
      "source": [
        "Get the response from the requested tool."
      ]
    },
    {
      "cell_type": "code",
      "execution_count": null,
      "metadata": {
        "id": "m1r0eZTBXMy1"
      },
      "outputs": [],
      "source": [
        "tool_response = tool_call(data_1)\n",
        "tool_response"
      ]
    },
    {
      "cell_type": "markdown",
      "metadata": {
        "id": "9n4_B-JuXMy1"
      },
      "source": [
        "The function successfully retrieved the requested stock price. To generate a synthesized final response, we can pass another prompt to the Granite model along with the information collected from function calling."
      ]
    },
    {
      "cell_type": "code",
      "execution_count": null,
      "metadata": {
        "id": "Pb3PvOinXMy1"
      },
      "outputs": [],
      "source": [
        "conversation2 = conversation + [\n",
        "    {\"role\": \"system\", \"content\": \"You are a helpful assistant.\"},\n",
        "    {\"role\": \"user\", \"content\": \"Display the tool response in natural language.\" },\n",
        "    {\"role\": \"tool_response\", \"content\": str(tool_response) },\n",
        "]\n",
        "\n",
        "instruction_2 = TOKENIZER.apply_chat_template(conversation=conversation2, tools=tools, tokenize=False, add_generation_prompt=True)\n",
        "data_2 = make_api_request(instruction_2)\n",
        "data_2"
      ]
    },
    {
      "cell_type": "markdown",
      "metadata": {
        "id": "s6bqniP2XMy1"
      },
      "source": [
        "### Step 6b. Calling the get_current_weather function\n",
        "\n",
        "As our next query, let’s inquire about the current weather in San Francisco. We can follow the same steps as in Step 5a by adjusting the query."
      ]
    },
    {
      "cell_type": "code",
      "execution_count": null,
      "metadata": {
        "id": "utWGLvC2XMy1"
      },
      "outputs": [],
      "source": [
        "query = \"What is the current weather in San Francisco?\""
      ]
    },
    {
      "cell_type": "code",
      "execution_count": null,
      "metadata": {
        "id": "1aYtbns6XMy1"
      },
      "outputs": [],
      "source": [
        "conversation = [\n",
        "    {\"role\": \"system\",\"content\": \"You are a helpful assistant with access to the following function calls. Your task is to produce a list of function calls necessary to generate response to the user utterance. Use the following function calls as required.\"},\n",
        "    {\"role\": \"user\", \"content\": query },\n",
        "]\n",
        "\n",
        "instruction_1 = TOKENIZER.apply_chat_template(conversation=conversation, tools=tools, tokenize=False, add_generation_prompt=True)\n",
        "instruction_1"
      ]
    },
    {
      "cell_type": "code",
      "execution_count": null,
      "metadata": {
        "id": "ZlW8uYMLXMy2"
      },
      "outputs": [],
      "source": [
        "data_1 = make_api_request(instruction_1)\n",
        "data_1"
      ]
    },
    {
      "cell_type": "markdown",
      "metadata": {
        "id": "rUpAyaOmXMy2"
      },
      "source": [
        "Once again, the model decides the appropriate tool choice, in this case `get_current_weather`, and extracts the location correctly. Now, let's call the function with the argument generated by the model."
      ]
    },
    {
      "cell_type": "code",
      "execution_count": null,
      "metadata": {
        "id": "jINKC4y7XMy5"
      },
      "outputs": [],
      "source": [
        "tool_response = tool_call(data_1)\n",
        "tool_response"
      ]
    },
    {
      "cell_type": "markdown",
      "metadata": {
        "id": "xfoTzywEXMy5"
      },
      "source": [
        "The function response correctly describes the current weather in San Francisco. Lastly, let's generate a synthesized final response with the results of this function call."
      ]
    },
    {
      "cell_type": "code",
      "execution_count": null,
      "metadata": {
        "id": "xAGj_MGCXMy5"
      },
      "outputs": [],
      "source": [
        "conversation2 = conversation + [\n",
        "    {\"role\": \"system\", \"content\": \"You are a helpful assistant.\"},\n",
        "    {\"role\": \"user\", \"content\": \"Display the tool response in natural language.\" },\n",
        "    {\"role\": \"tool_response\", \"content\": str(tool_response) },\n",
        "]\n",
        "\n",
        "instruction_2 = TOKENIZER.apply_chat_template(conversation=conversation2, tools=tools, tokenize=False, add_generation_prompt=True)\n",
        "data_2 = make_api_request(instruction_2)\n",
        "data_2"
      ]
    },
    {
      "cell_type": "markdown",
      "metadata": {
        "id": "FuyhQbe4XMy6"
      },
      "source": [
        "## Summary\n",
        "\n",
        "In this tutorial, you built custom functions and used the Granite-3-8B-Instruct model to determine which function to call based on  key information from user queries. With this information, you called the function with the arguments as stated in the model response. These function calls produce the expected output. Finally, you called the Granite-3-8B-Instruct model again to synthesize the information returned by the functions."
      ]
    }
  ],
  "metadata": {
    "language_info": {
      "codemirror_mode": {
        "name": "ipython",
        "version": 3
      },
      "file_extension": ".py",
      "mimetype": "text/x-python",
      "name": "python",
      "nbconvert_exporter": "python",
      "pygments_lexer": "ipython3"
    },
    "colab": {
      "provenance": []
    }
  },
  "nbformat": 4,
  "nbformat_minor": 0
}